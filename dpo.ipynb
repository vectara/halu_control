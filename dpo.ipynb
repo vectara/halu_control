{
 "cells": [
  {
   "cell_type": "markdown",
   "metadata": {},
   "source": [
    "# Generate Preference Datas"
   ]
  },
  {
   "cell_type": "code",
   "execution_count": 1,
   "metadata": {},
   "outputs": [
    {
     "name": "stderr",
     "output_type": "stream",
     "text": [
      "2024-05-29 23:41:01,336\tINFO util.py:154 -- Missing packages: ['ipywidgets']. Run `pip install -U ipywidgets`, then restart the notebook server for rich notebook output.\n"
     ]
    }
   ],
   "source": [
    "import os\n",
    "os.environ[\"CUDA_VISIBLE_DEVICES\"] = \"0\"\n",
    "import torch\n",
    "from transformers import AutoTokenizer, pipeline, AutoModelForCausalLM\n",
    "from transformers import LogitsProcessor\n",
    "from typing import Iterable\n",
    "import envs\n",
    "import pandas as pd\n",
    "import string\n",
    "from sentence_transformers import CrossEncoder\n",
    "from leaderboard import SummaryGenerator, EvaluationModel\n",
    "from tqdm import tqdm\n",
    "import vllm \n",
    "import util\n",
    "MODEL_NAME = \"mistralai/Mistral-7B-Instruct-v0.1\""
   ]
  },
  {
   "cell_type": "code",
   "execution_count": 2,
   "metadata": {},
   "outputs": [
    {
     "name": "stdout",
     "output_type": "stream",
     "text": [
      "INFO 05-29 11:34:44 llm_engine.py:72] Initializing an LLM engine with config: model='mistralai/Mistral-7B-Instruct-v0.1', tokenizer='mistralai/Mistral-7B-Instruct-v0.1', tokenizer_mode=auto, revision=None, tokenizer_revision=None, trust_remote_code=False, dtype=torch.bfloat16, max_seq_len=16384, download_dir=None, load_format=auto, tensor_parallel_size=1, disable_custom_all_reduce=False, quantization=None, enforce_eager=False, kv_cache_dtype=auto, seed=0)\n",
      "INFO 05-29 11:34:48 weight_utils.py:164] Using model weights format ['*.safetensors']\n",
      "INFO 05-29 11:34:57 llm_engine.py:322] # GPU blocks: 2738, # CPU blocks: 2048\n",
      "INFO 05-29 11:35:00 model_runner.py:632] Capturing the model for CUDA graphs. This may lead to unexpected consequences if the model is not static. To run the model in eager mode, set 'enforce_eager=True' or use '--enforce-eager' in the CLI.\n",
      "INFO 05-29 11:35:00 model_runner.py:636] CUDA graphs can take additional 1~3 GiB memory per GPU. If you are running out of memory, consider decreasing `gpu_memory_utilization` or enforcing eager mode. You can also reduce the `max_num_seqs` as needed to decrease memory usage.\n",
      "INFO 05-29 11:35:08 model_runner.py:698] Graph capturing finished in 9 secs.\n"
     ]
    }
   ],
   "source": [
    "model = vllm.LLM(model=MODEL_NAME, max_model_len=16384)"
   ]
  },
  {
   "cell_type": "code",
   "execution_count": 2,
   "metadata": {},
   "outputs": [],
   "source": [
    "from datasets import load_dataset\n",
    "vitc = load_dataset(\"tals/vitaminc\", split=\"train\")\n",
    "xsum = load_dataset(\"EdinburghNLP/xsum\", split=\"train\")\n",
    "cnndm = load_dataset(\"abisee/cnn_dailymail\", \"1.0.0\", split=\"train\")"
   ]
  },
  {
   "cell_type": "code",
   "execution_count": 3,
   "metadata": {},
   "outputs": [],
   "source": [
    "shuffled_vitc = vitc.shuffle(seed=42)\n",
    "vitc_sampled = shuffled_vitc.shard(num_shards=30, index=0)"
   ]
  },
  {
   "cell_type": "code",
   "execution_count": 4,
   "metadata": {},
   "outputs": [],
   "source": [
    "cnndm_filtered = cnndm.filter(lambda example: len(example[\"article\"].split()) <= 500)\n",
    "cnndm_sampled = cnndm_filtered.shard(num_shards=10, index=0)"
   ]
  },
  {
   "cell_type": "code",
   "execution_count": 5,
   "metadata": {},
   "outputs": [],
   "source": [
    "xsum_filtered = xsum.filter(lambda example: len(example[\"document\"].split()) <= 500)\n",
    "xsum_sampled = xsum_filtered.shard(num_shards=10, index=0)"
   ]
  },
  {
   "cell_type": "code",
   "execution_count": 6,
   "metadata": {},
   "outputs": [
    {
     "name": "stdout",
     "output_type": "stream",
     "text": [
      "37195\n"
     ]
    }
   ],
   "source": [
    "docs = cnndm_sampled[\"article\"] + vitc_sampled[\"evidence\"] + xsum_sampled[\"document\"]\n",
    "print(len(docs))"
   ]
  },
  {
   "cell_type": "code",
   "execution_count": 8,
   "metadata": {},
   "outputs": [],
   "source": [
    "tokenizer = AutoTokenizer.from_pretrained(MODEL_NAME)\n",
    "tokenizer.chat_template = open(\"mistral_template.jinja\", \"r\").read()\n",
    "def construct_prompt(source):\n",
    "    messages = [{\"role\": \"system\", \"content\": envs.SYSTEM_PROMPT},\n",
    "                {\"role\": \"user\", \"content\": envs.USER_PROMPT.format(passage=source)}]\n",
    "    prompt = tokenizer.apply_chat_template(messages, tokenize=False)\n",
    "    return prompt"
   ]
  },
  {
   "cell_type": "code",
   "execution_count": 9,
   "metadata": {},
   "outputs": [
    {
     "name": "stderr",
     "output_type": "stream",
     "text": [
      "100%|██████████| 37195/37195 [00:05<00:00, 7049.40it/s]"
     ]
    },
    {
     "name": "stdout",
     "output_type": "stream",
     "text": [
      "<s>[INST] You are a chat bot answering questions using data. You must stick to the answers provided solely by the text in the passage provided. \n",
      "\n",
      "You are asked the question 'Provide a concise summary of the following passage, covering the core pieces of information described': LONDON, England (Reuters) -- Harry Potter star Daniel Radcliffe gains access to a reported £20 million ($41.1 million) fortune as he turns 18 on Monday, but he insists the money won't cast a spell on him. Daniel Radcliffe as Harry Potter in \"Harry Potter and the Order of the Phoenix\" To the disappointment of gossip columnists around the world, the young actor says he has no plans to fritter his cash away on fast cars, drink and celebrity parties. \"I don't plan to be one of those people who, as soon as they turn 18, suddenly buy themselves a massive sports car collection or something similar,\" he told an Australian interviewer earlier this month. \"I don't think I'll be particularly extravagant. \"The things I like buying are things that cost about 10 pounds -- books and CDs and DVDs.\" At 18, Radcliffe will be able to gamble in a casino, buy a drink in a pub or see the horror film \"Hostel: Part II,\" currently six places below his number one movie on the UK box office chart. Details of how he'll mark his landmark birthday are under wraps. His agent and publicist had no comment on his plans. \"I'll definitely have some sort of party,\" he said in an interview. \"Hopefully none of you will be reading about it.\" Radcliffe's earnings from the first five Potter films have been held in a trust fund which he has not been able to touch. Despite his growing fame and riches, the actor says he is keeping his feet firmly on the ground. \"People are always looking to say 'kid star goes off the rails,'\" he told reporters last month. \"But I try very hard not to go that way because it would be too easy for them.\" His latest outing as the boy wizard in \"Harry Potter and the Order of the Phoenix\" is breaking records on both sides of the Atlantic and he will reprise the role in the last two films.  Watch I-Reporter give her review of Potter's latest » . There is life beyond Potter, however. The Londoner has filmed a TV movie called \"My Boy Jack,\" about author Rudyard Kipling and his son, due for release later this year. He will also appear in \"December Boys,\" an Australian film about four boys who escape an orphanage. Earlier this year, he made his stage debut playing a tortured teenager in Peter Shaffer's \"Equus.\" Meanwhile, he is braced for even closer media scrutiny now that he's legally an adult: \"I just think I'm going to be more sort of fair game,\" he told Reuters. E-mail to a friend . Copyright 2007 Reuters. All rights reserved.This material may not be published, broadcast, rewritten, or redistributed. [/INST]  37195\n"
     ]
    },
    {
     "name": "stderr",
     "output_type": "stream",
     "text": [
      "\n"
     ]
    }
   ],
   "source": [
    "prompts = [construct_prompt(doc) for doc in tqdm(docs)]\n",
    "print(prompts[0], len(prompts))"
   ]
  },
  {
   "cell_type": "code",
   "execution_count": 10,
   "metadata": {},
   "outputs": [
    {
     "name": "stdout",
     "output_type": "stream",
     "text": [
      "<s>[INST] You are a chat bot answering questions using data. You must stick to the answers provided solely by the text in the passage provided. \n",
      "\n",
      "You are asked the question 'Provide a concise summary of the following passage, covering the core pieces of information described': LONDON, England (Reuters) -- Harry Potter star Daniel Radcliffe gains access to a reported £20 million ($41.1 million) fortune as he turns 18 on Monday, but he insists the money won't cast a spell on him. Daniel Radcliffe as Harry Potter in \"Harry Potter and the Order of the Phoenix\" To the disappointment of gossip columnists around the world, the young actor says he has no plans to fritter his cash away on fast cars, drink and celebrity parties. \"I don't plan to be one of those people who, as soon as they turn 18, suddenly buy themselves a massive sports car collection or something similar,\" he told an Australian interviewer earlier this month. \"I don't think I'll be particularly extravagant. \"The things I like buying are things that cost about 10 pounds -- books and CDs and DVDs.\" At 18, Radcliffe will be able to gamble in a casino, buy a drink in a pub or see the horror film \"Hostel: Part II,\" currently six places below his number one movie on the UK box office chart. Details of how he'll mark his landmark birthday are under wraps. His agent and publicist had no comment on his plans. \"I'll definitely have some sort of party,\" he said in an interview. \"Hopefully none of you will be reading about it.\" Radcliffe's earnings from the first five Potter films have been held in a trust fund which he has not been able to touch. Despite his growing fame and riches, the actor says he is keeping his feet firmly on the ground. \"People are always looking to say 'kid star goes off the rails,'\" he told reporters last month. \"But I try very hard not to go that way because it would be too easy for them.\" His latest outing as the boy wizard in \"Harry Potter and the Order of the Phoenix\" is breaking records on both sides of the Atlantic and he will reprise the role in the last two films.  Watch I-Reporter give her review of Potter's latest » . There is life beyond Potter, however. The Londoner has filmed a TV movie called \"My Boy Jack,\" about author Rudyard Kipling and his son, due for release later this year. He will also appear in \"December Boys,\" an Australian film about four boys who escape an orphanage. Earlier this year, he made his stage debut playing a tortured teenager in Peter Shaffer's \"Equus.\" Meanwhile, he is braced for even closer media scrutiny now that he's legally an adult: \"I just think I'm going to be more sort of fair game,\" he told Reuters. E-mail to a friend . Copyright 2007 Reuters. All rights reserved.This material may not be published, broadcast, rewritten, or redistributed. [/INST] \n"
     ]
    }
   ],
   "source": [
    "n = 6\n",
    "sampling_params = vllm.SamplingParams(\n",
    "    n=n,\n",
    "    temperature=1.0,\n",
    "    max_tokens=512,\n",
    ")\n",
    "print(prompts[0])\n"
   ]
  },
  {
   "cell_type": "code",
   "execution_count": 11,
   "metadata": {},
   "outputs": [
    {
     "name": "stderr",
     "output_type": "stream",
     "text": [
      "Processed prompts: 100%|██████████| 1/1 [00:05<00:00,  5.55s/it]"
     ]
    },
    {
     "name": "stdout",
     "output_type": "stream",
     "text": [
      "[RequestOutput(request_id=0, prompt='<s>[INST] You are a chat bot answering questions using data. You must stick to the answers provided solely by the text in the passage provided. \\n\\nYou are asked the question \\'Provide a concise summary of the following passage, covering the core pieces of information described\\': LONDON, England (Reuters) -- Harry Potter star Daniel Radcliffe gains access to a reported £20 million ($41.1 million) fortune as he turns 18 on Monday, but he insists the money won\\'t cast a spell on him. Daniel Radcliffe as Harry Potter in \"Harry Potter and the Order of the Phoenix\" To the disappointment of gossip columnists around the world, the young actor says he has no plans to fritter his cash away on fast cars, drink and celebrity parties. \"I don\\'t plan to be one of those people who, as soon as they turn 18, suddenly buy themselves a massive sports car collection or something similar,\" he told an Australian interviewer earlier this month. \"I don\\'t think I\\'ll be particularly extravagant. \"The things I like buying are things that cost about 10 pounds -- books and CDs and DVDs.\" At 18, Radcliffe will be able to gamble in a casino, buy a drink in a pub or see the horror film \"Hostel: Part II,\" currently six places below his number one movie on the UK box office chart. Details of how he\\'ll mark his landmark birthday are under wraps. His agent and publicist had no comment on his plans. \"I\\'ll definitely have some sort of party,\" he said in an interview. \"Hopefully none of you will be reading about it.\" Radcliffe\\'s earnings from the first five Potter films have been held in a trust fund which he has not been able to touch. Despite his growing fame and riches, the actor says he is keeping his feet firmly on the ground. \"People are always looking to say \\'kid star goes off the rails,\\'\" he told reporters last month. \"But I try very hard not to go that way because it would be too easy for them.\" His latest outing as the boy wizard in \"Harry Potter and the Order of the Phoenix\" is breaking records on both sides of the Atlantic and he will reprise the role in the last two films.  Watch I-Reporter give her review of Potter\\'s latest » . There is life beyond Potter, however. The Londoner has filmed a TV movie called \"My Boy Jack,\" about author Rudyard Kipling and his son, due for release later this year. He will also appear in \"December Boys,\" an Australian film about four boys who escape an orphanage. Earlier this year, he made his stage debut playing a tortured teenager in Peter Shaffer\\'s \"Equus.\" Meanwhile, he is braced for even closer media scrutiny now that he\\'s legally an adult: \"I just think I\\'m going to be more sort of fair game,\" he told Reuters. E-mail to a friend . Copyright 2007 Reuters. All rights reserved.This material may not be published, broadcast, rewritten, or redistributed. [/INST] ', prompt_token_ids=[1, 1, 733, 16289, 28793, 995, 460, 264, 10706, 12435, 24402, 4224, 1413, 1178, 28723, 995, 1580, 6906, 298, 272, 11194, 3857, 19550, 486, 272, 2245, 297, 272, 12280, 3857, 28723, 28705, 13, 13, 1976, 460, 2261, 272, 2996, 464, 18325, 547, 264, 3078, 864, 14060, 302, 272, 2296, 12280, 28725, 13974, 272, 6421, 7769, 302, 1871, 5397, 1869, 393, 832, 28757, 832, 28725, 5783, 325, 1925, 329, 404, 28731, 1939, 9726, 10650, 360, 4580, 8103, 6444, 512, 27007, 21722, 2735, 298, 264, 5745, 7642, 28750, 28734, 3841, 3180, 28781, 28740, 28723, 28740, 3841, 28731, 19808, 390, 400, 8617, 28705, 28740, 28783, 356, 9262, 28725, 562, 400, 1488, 1583, 272, 2445, 1747, 28742, 28707, 4815, 264, 13050, 356, 713, 28723, 8103, 6444, 512, 27007, 390, 9726, 10650, 360, 297, 345, 28769, 12255, 10650, 360, 304, 272, 9006, 302, 272, 23228, 28739, 1791, 272, 26820, 302, 319, 24634, 4419, 1583, 1401, 272, 1526, 28725, 272, 2518, 10964, 2627, 400, 659, 708, 6400, 298, 285, 872, 360, 516, 7877, 1753, 356, 4102, 8300, 28725, 4663, 304, 5903, 472, 8209, 28723, 345, 28737, 949, 28742, 28707, 2623, 298, 347, 624, 302, 1395, 905, 693, 28725, 390, 3403, 390, 590, 1527, 28705, 28740, 28783, 28725, 6914, 3848, 3892, 264, 9130, 8657, 1253, 5442, 442, 1545, 3684, 862, 400, 2240, 396, 9972, 5927, 263, 5585, 456, 2102, 28723, 345, 28737, 949, 28742, 28707, 1073, 315, 28742, 584, 347, 6311, 9237, 494, 357, 440, 28723, 345, 1014, 1722, 315, 737, 9737, 460, 1722, 369, 2434, 684, 28705, 28740, 28734, 14090, 1939, 4796, 304, 8204, 28713, 304, 15830, 28713, 611, 1794, 28705, 28740, 28783, 28725, 6444, 512, 27007, 622, 347, 2358, 298, 11129, 982, 297, 264, 13638, 28725, 3848, 264, 4663, 297, 264, 2034, 442, 1032, 272, 15032, 2966, 345, 7287, 301, 28747, 2914, 3717, 862, 5489, 3522, 5563, 3624, 516, 1474, 624, 5994, 356, 272, 6194, 3890, 4007, 10968, 28723, 16329, 302, 910, 400, 28742, 584, 1716, 516, 2533, 3325, 12892, 460, 916, 12551, 28713, 28723, 2354, 8073, 304, 798, 392, 553, 708, 4517, 356, 516, 6400, 28723, 345, 28737, 28742, 584, 6304, 506, 741, 3127, 302, 4150, 862, 400, 773, 297, 396, 5927, 28723, 345, 28769, 1845, 3071, 6547, 302, 368, 622, 347, 4865, 684, 378, 611, 6444, 512, 27007, 28742, 28713, 24431, 477, 272, 907, 3359, 10650, 360, 9922, 506, 750, 3336, 297, 264, 4893, 3360, 690, 400, 659, 459, 750, 2358, 298, 4814, 28723, 10191, 516, 6485, 24665, 304, 14037, 2053, 28725, 272, 10964, 2627, 400, 349, 7603, 516, 4051, 19321, 356, 272, 3414, 28723, 345, 21794, 460, 1743, 2526, 298, 1315, 464, 28729, 313, 4580, 4859, 805, 272, 408, 2014, 3029, 28739, 400, 2240, 25875, 1432, 2102, 28723, 345, 2438, 315, 1464, 1215, 1856, 459, 298, 576, 369, 1069, 1096, 378, 682, 347, 1368, 3411, 354, 706, 611, 2354, 7345, 575, 288, 390, 272, 4531, 275, 14640, 297, 345, 28769, 12255, 10650, 360, 304, 272, 9006, 302, 272, 23228, 28739, 349, 11313, 7806, 356, 1560, 8480, 302, 272, 16343, 304, 400, 622, 312, 9266, 272, 3905, 297, 272, 1432, 989, 9922, 28723, 28705, 11933, 315, 28733, 4781, 7046, 2111, 559, 4058, 302, 10650, 360, 28742, 28713, 7345, 3488, 842, 1387, 349, 1411, 5298, 10650, 360, 28725, 3545, 28723, 415, 4222, 263, 659, 1217, 1591, 264, 5046, 5994, 1987, 345, 5183, 11036, 4299, 862, 684, 3227, 15010, 10892, 22485, 8182, 304, 516, 1966, 28725, 2940, 354, 5614, 2062, 456, 879, 28723, 650, 622, 835, 4305, 297, 345, 3337, 4354, 20344, 862, 396, 9972, 2966, 684, 2308, 8066, 693, 8957, 396, 442, 19058, 465, 28723, 413, 5265, 456, 879, 28725, 400, 1269, 516, 5430, 9928, 4543, 264, 12703, 2330, 28001, 297, 5966, 1295, 2146, 263, 28742, 28713, 345, 2702, 381, 611, 14874, 28725, 400, 349, 1170, 2701, 354, 1019, 7887, 4077, 27352, 4279, 1055, 369, 400, 28742, 28713, 24025, 396, 6555, 28747, 345, 28737, 776, 1073, 315, 28742, 28719, 1404, 298, 347, 680, 3127, 302, 4968, 2039, 862, 400, 2240, 1298, 329, 404, 28723, 413, 28733, 6645, 298, 264, 1832, 842, 5259, 28705, 28750, 28734, 28734, 28787, 1298, 329, 404, 28723, 1682, 4495, 9144, 28723, 3260, 3388, 993, 459, 347, 4775, 28725, 11837, 28725, 312, 15957, 28725, 442, 2760, 25625, 28723, 733, 28748, 16289, 28793, 28705], prompt_logprobs=None, outputs=[CompletionOutput(index=1, text=\"18 year old Daniel Radcliffe receives a £20 million fortune from the first five Potter movies. He plans to buy things like books and CDs and doesn't plan to engage in reckless behavior, such as buying a sports car collection.\", token_ids=[28740, 28783, 879, 1571, 8103, 6444, 512, 27007, 21415, 264, 7642, 28750, 28734, 3841, 19808, 477, 272, 907, 3359, 10650, 360, 10615, 28723, 650, 6400, 298, 3848, 1722, 737, 4796, 304, 8204, 28713, 304, 2368, 28742, 28707, 2623, 298, 14200, 297, 20088, 1503, 6174, 28725, 1259, 390, 9737, 264, 8657, 1253, 5442, 28723, 2], cumulative_logprob=-55.36228267496881, logprobs=None, finish_reason=stop), CompletionOutput(index=5, text='18-year-old Daniel Radcliffe, known for playing Harry Potter, gains access to a reported £20 million fortune on his birthday but plans to not spend it extravagantly and has no plans to gamble. He intends to celebrate his birthday with a party, while his earnings from the first five Potter films have been held in a trust fund which he has not been able to touch. The actor will reprise the role of Harry Potter in the last two films and appears in other films, including \"My Boy Jack\" and \"December Boys.\" He is braced for more media scrutiny now that he\\'s legally an adult.', token_ids=[28740, 28783, 28733, 4395, 28733, 738, 8103, 6444, 512, 27007, 28725, 2651, 354, 4543, 9726, 10650, 360, 28725, 21722, 2735, 298, 264, 5745, 7642, 28750, 28734, 3841, 19808, 356, 516, 12892, 562, 6400, 298, 459, 6305, 378, 9237, 494, 357, 4218, 304, 659, 708, 6400, 298, 11129, 982, 28723, 650, 716, 2827, 298, 16895, 516, 12892, 395, 264, 4150, 28725, 1312, 516, 24431, 477, 272, 907, 3359, 10650, 360, 9922, 506, 750, 3336, 297, 264, 4893, 3360, 690, 400, 659, 459, 750, 2358, 298, 4814, 28723, 415, 10964, 622, 312, 9266, 272, 3905, 302, 9726, 10650, 360, 297, 272, 1432, 989, 9922, 304, 8045, 297, 799, 9922, 28725, 2490, 345, 5183, 11036, 4299, 28739, 304, 345, 3337, 4354, 20344, 611, 650, 349, 1170, 2701, 354, 680, 4077, 27352, 4279, 1055, 369, 400, 28742, 28713, 24025, 396, 6555, 28723, 2], cumulative_logprob=-70.70535663101663, logprobs=None, finish_reason=stop), CompletionOutput(index=3, text=\"1. Daniel Radcliffe, the actor who plays Harry Potter, turns 18 on Monday and inherits around £20 million.\\n2. He plans to use his money wisely and not excessively spend on things like parties or fast cars.\\n3. He likes to buy things like books and CDs for around £10.\\n4. At 18, he will be able to gamble in a casino, buy a drink in a pub and see certain films.\\n5. He keeps his feet firmly on the ground and doesn't want to be labeled as a troubled teen star.\\n6. He has landed some roles outside of the Harry Potter series, including a TV movie about Rudyard Kipling and an Australian film.\\n7. He made his stage debut in a play by Peter Shaffer and is braced for even more media scrutiny as he is now considered an adult.\", token_ids=[28740, 28723, 8103, 6444, 512, 27007, 28725, 272, 10964, 693, 8928, 9726, 10650, 360, 28725, 8617, 28705, 28740, 28783, 356, 9262, 304, 9677, 1046, 1401, 7642, 28750, 28734, 3841, 28723, 13, 28750, 28723, 650, 6400, 298, 938, 516, 2445, 275, 11973, 304, 459, 11454, 2260, 6305, 356, 1722, 737, 8209, 442, 4102, 8300, 28723, 13, 28770, 28723, 650, 12672, 298, 3848, 1722, 737, 4796, 304, 8204, 28713, 354, 1401, 7642, 28740, 28734, 28723, 13, 28781, 28723, 1794, 28705, 28740, 28783, 28725, 400, 622, 347, 2358, 298, 11129, 982, 297, 264, 13638, 28725, 3848, 264, 4663, 297, 264, 2034, 304, 1032, 2552, 9922, 28723, 13, 28782, 28723, 650, 11478, 516, 4051, 19321, 356, 272, 3414, 304, 2368, 28742, 28707, 947, 298, 347, 25430, 390, 264, 7414, 9704, 10799, 4580, 28723, 13, 28784, 28723, 650, 659, 16787, 741, 12426, 3536, 302, 272, 9726, 10650, 360, 3518, 28725, 2490, 264, 5046, 5994, 684, 15010, 10892, 22485, 8182, 304, 396, 9972, 2966, 28723, 13, 28787, 28723, 650, 1269, 516, 5430, 9928, 297, 264, 1156, 486, 5966, 1295, 2146, 263, 304, 349, 1170, 2701, 354, 1019, 680, 4077, 27352, 4279, 390, 400, 349, 1055, 4525, 396, 6555, 28723, 2], cumulative_logprob=-117.0770655004435, logprobs=None, finish_reason=stop), CompletionOutput(index=4, text=\"18 year old Harry Potter star Daniel Radcliffe is set to receive a reported £20 million ($41.1 million) inheritance. He plans to create a balanced budget that includes things that cost around £10 such as books, CDs, and DVDs. He will also be able to gamble in a casino, buy alcohol and see movies. He plans to have a party for his landmark birthday.Daniel Radcliffe's latest film, Harry Potter and the Order of the Phoenix, is breaking records. He will reprise his role in the last two films of the series. He has also filmed a TV movie called My Boy Jack and will appear in December Boys. He made his stage debut playing a tortured teenager in Peter Shaffer's Equus. Radcliffe is braced for even closer media scrutiny as he's legally an adult.\\n\\nReferences:\\nReuters. (2007, July 12). Harry Potter star Daniel Radcliffe gains access to £20 million fortune on turning 18. Retrieved from\", token_ids=[28740, 28783, 879, 1571, 9726, 10650, 360, 4580, 8103, 6444, 512, 27007, 349, 808, 298, 5556, 264, 5745, 7642, 28750, 28734, 3841, 3180, 28781, 28740, 28723, 28740, 3841, 28731, 22492, 617, 28723, 650, 6400, 298, 2231, 264, 19971, 8326, 369, 5532, 1722, 369, 2434, 1401, 7642, 28740, 28734, 1259, 390, 4796, 28725, 8204, 28713, 28725, 304, 15830, 28713, 28723, 650, 622, 835, 347, 2358, 298, 11129, 982, 297, 264, 13638, 28725, 3848, 11070, 304, 1032, 10615, 28723, 650, 6400, 298, 506, 264, 4150, 354, 516, 2533, 3325, 12892, 28723, 25314, 755, 6444, 512, 27007, 28742, 28713, 7345, 2966, 28725, 9726, 10650, 360, 304, 272, 9006, 302, 272, 23228, 28725, 349, 11313, 7806, 28723, 650, 622, 312, 9266, 516, 3905, 297, 272, 1432, 989, 9922, 302, 272, 3518, 28723, 650, 659, 835, 1217, 1591, 264, 5046, 5994, 1987, 1984, 11036, 4299, 304, 622, 4305, 297, 4925, 20344, 28723, 650, 1269, 516, 5430, 9928, 4543, 264, 12703, 2330, 28001, 297, 5966, 1295, 2146, 263, 28742, 28713, 8391, 381, 28723, 6444, 512, 27007, 349, 1170, 2701, 354, 1019, 7887, 4077, 27352, 4279, 390, 400, 28742, 28713, 24025, 396, 6555, 28723, 13, 13, 1925, 8831, 28747, 13, 1925, 329, 404, 28723, 325, 28750, 28734, 28734, 28787, 28725, 4398, 28705, 28740, 28750, 609, 9726, 10650, 360, 4580, 8103, 6444, 512, 27007, 21722, 2735, 298, 7642, 28750, 28734, 3841, 19808, 356, 8528, 28705, 28740, 28783, 28723, 8337, 10212, 286, 477, 2], cumulative_logprob=-129.70051951589585, logprobs=None, finish_reason=stop), CompletionOutput(index=2, text='1. Daniel Radcliffe, known for playing Harry Potter, turns 18 on Monday and will gain access to a reported £20 million fortune.\\n2. Radcliffe has stated that he plans to be cautious with his money and will not buy luxury items like sports cars, but will buy books, CDs and DVDs for around £10 each as his birthday gift.\\n3. At 18, he can legally gamble, buy drinks in a pub and see the film \"Hostel: Part II\".\\n4. Radcliffe is not married yet, but he will probably have some sort of party to celebrate his 18th birthday.\\n5. Radcliffe is known for his work in the Harry Potter series, but he is braced for the increased media scrutiny coming as an adult.\\n6. He has filmed a TV movie called \"My Boy Jack\" and an Australian film \"December Boys\".\\n7. He made his stage debut in Peter Shaffer\\'s play \"Equus\".\\n8. The passage does not provide details about the gifts that he will receive or the people he will celebrate his birthday with.', token_ids=[28740, 28723, 8103, 6444, 512, 27007, 28725, 2651, 354, 4543, 9726, 10650, 360, 28725, 8617, 28705, 28740, 28783, 356, 9262, 304, 622, 8356, 2735, 298, 264, 5745, 7642, 28750, 28734, 3841, 19808, 28723, 13, 28750, 28723, 6444, 512, 27007, 659, 9256, 369, 400, 6400, 298, 347, 13831, 925, 395, 516, 2445, 304, 622, 459, 3848, 17211, 4907, 737, 8657, 8300, 28725, 562, 622, 3848, 4796, 28725, 8204, 28713, 304, 15830, 28713, 354, 1401, 7642, 28740, 28734, 1430, 390, 516, 12892, 7875, 28723, 13, 28770, 28723, 1794, 28705, 28740, 28783, 28725, 400, 541, 24025, 11129, 982, 28725, 3848, 16195, 297, 264, 2034, 304, 1032, 272, 2966, 345, 7287, 301, 28747, 2914, 3717, 2586, 13, 28781, 28723, 6444, 512, 27007, 349, 459, 6368, 2783, 28725, 562, 400, 622, 3049, 506, 741, 3127, 302, 4150, 298, 16895, 516, 28705, 28740, 28783, 362, 12892, 28723, 13, 28782, 28723, 6444, 512, 27007, 349, 2651, 354, 516, 771, 297, 272, 9726, 10650, 360, 3518, 28725, 562, 400, 349, 1170, 2701, 354, 272, 7483, 4077, 27352, 4279, 3524, 390, 396, 6555, 28723, 13, 28784, 28723, 650, 659, 1217, 1591, 264, 5046, 5994, 1987, 345, 5183, 11036, 4299, 28739, 304, 396, 9972, 2966, 345, 3337, 4354, 20344, 2586, 13, 28787, 28723, 650, 1269, 516, 5430, 9928, 297, 5966, 1295, 2146, 263, 28742, 28713, 1156, 345, 2702, 381, 2586, 13, 28783, 28723, 415, 12280, 1235, 459, 3084, 4162, 684, 272, 15973, 369, 400, 622, 5556, 442, 272, 905, 400, 622, 16895, 516, 12892, 395, 28723, 2], cumulative_logprob=-182.1124228647584, logprobs=None, finish_reason=stop), CompletionOutput(index=0, text='18-year-old Harry Potter star Daniel Radcliffe, who has the financial support from his first five Potter films held in a trust fund, title of the article\\n\\nRadcliffe\\'s plans to not engage in impulsive spending on fast cars, parties, or drink to prove he won\\'t let his fortune dictate his life, justifies the bottom-line in the article\\n\\nRadcliffe\\'s movies, along with his new TV movie, \"My Boy Jack\", an Australian film named \"December Boys\", and his debut on stage in \"Equus\", which is the films and tv projects the article is referring to\\n\\nRadcliffe\\'s expectation of closer media scrutiny due to him being legally an adult, and him acknowledging it in his detail statement.', token_ids=[28740, 28783, 28733, 4395, 28733, 738, 9726, 10650, 360, 4580, 8103, 6444, 512, 27007, 28725, 693, 659, 272, 5593, 1760, 477, 516, 907, 3359, 10650, 360, 9922, 3336, 297, 264, 4893, 3360, 28725, 3941, 302, 272, 5447, 13, 13, 9771, 512, 27007, 28742, 28713, 6400, 298, 459, 14200, 297, 2824, 7550, 495, 9981, 356, 4102, 8300, 28725, 8209, 28725, 442, 4663, 298, 7674, 400, 1747, 28742, 28707, 1346, 516, 19808, 8826, 380, 516, 1411, 28725, 776, 8961, 272, 5859, 28733, 1081, 297, 272, 5447, 13, 13, 9771, 512, 27007, 28742, 28713, 10615, 28725, 2267, 395, 516, 633, 5046, 5994, 28725, 345, 5183, 11036, 4299, 548, 396, 9972, 2966, 5160, 345, 3337, 4354, 20344, 548, 304, 516, 9928, 356, 5430, 297, 345, 2702, 381, 548, 690, 349, 272, 9922, 304, 9781, 7028, 272, 5447, 349, 18723, 298, 13, 13, 9771, 512, 27007, 28742, 28713, 21859, 302, 7887, 4077, 27352, 4279, 2940, 298, 713, 1250, 24025, 396, 6555, 28725, 304, 713, 13964, 3080, 378, 297, 516, 8291, 6251, 28723, 2], cumulative_logprob=-254.877967598718, logprobs=None, finish_reason=stop)], finished=True, lora_request=None)]\n"
     ]
    },
    {
     "name": "stderr",
     "output_type": "stream",
     "text": [
      "\n"
     ]
    }
   ],
   "source": [
    "print(model.generate(prompts[0], sampling_params))"
   ]
  },
  {
   "cell_type": "code",
   "execution_count": 12,
   "metadata": {},
   "outputs": [
    {
     "name": "stderr",
     "output_type": "stream",
     "text": [
      "Processed prompts: 100%|██████████| 37195/37195 [7:02:04<00:00,  1.47it/s]  \n"
     ]
    }
   ],
   "source": [
    "outputs = model.generate(prompts, sampling_params)\n",
    "lines = []\n",
    "for i, output in enumerate(outputs):\n",
    "    gen = [{\"text\": output.outputs[idx].text} for idx in range(n)]\n",
    "    lines.append({\"prompt\": prompts[i], \"generated_text\": gen})\n",
    "\n",
    "util.dump2jsonl(lines, \"tmp.jsonl\")"
   ]
  },
  {
   "cell_type": "code",
   "execution_count": null,
   "metadata": {},
   "outputs": [],
   "source": [
    "lines = util.load_jsonl(\"tmp.jsonl\")\n",
    "model = CrossEncoder(\"vectara/hallucination_evaluation_model\", device=\"cuda\")"
   ]
  },
  {
   "cell_type": "code",
   "execution_count": 8,
   "metadata": {},
   "outputs": [
    {
     "name": "stderr",
     "output_type": "stream",
     "text": [
      "100%|██████████| 37195/37195 [44:15<00:00, 14.00it/s]\n"
     ]
    }
   ],
   "source": [
    "for i, line in enumerate(tqdm(lines)):\n",
    "    doc = docs[i]\n",
    "    summaries = line[\"generated_text\"]\n",
    "    scores = model.predict([[doc, _sum[\"text\"]] for _sum in summaries], show_progress_bar=False)\n",
    "    for j, item in enumerate(summaries):\n",
    "        item[\"score\"] = scores[j]"
   ]
  },
  {
   "cell_type": "code",
   "execution_count": 13,
   "metadata": {},
   "outputs": [
    {
     "name": "stderr",
     "output_type": "stream",
     "text": [
      "100%|██████████| 37195/37195 [00:03<00:00, 10634.78it/s]\n"
     ]
    },
    {
     "name": "stdout",
     "output_type": "stream",
     "text": [
      "69519\n"
     ]
    }
   ],
   "source": [
    "dpo_pairs = []\n",
    "for line in tqdm(lines):\n",
    "    prompt = line[\"prompt\"]\n",
    "    summaries = line[\"generated_text\"]\n",
    "    rejected_samples = []\n",
    "    chosen_samples = []\n",
    "    for _sum in summaries:\n",
    "        if not util.is_summary_valid(_sum[\"text\"]): \n",
    "            continue\n",
    "        if _sum[\"score\"] > 0.8:\n",
    "            chosen_samples.append(_sum[\"text\"])\n",
    "        elif _sum[\"score\"] < 0.5:\n",
    "            rejected_samples.append(_sum[\"text\"])\n",
    "\n",
    "    for chosen in chosen_samples:\n",
    "        for rejected in rejected_samples:\n",
    "            dpo_pairs.append({\n",
    "                \"prompt\": prompt,\n",
    "                \"chosen\": chosen,\n",
    "                \"rejected\": rejected\n",
    "            })\n",
    "\n",
    "print(len(dpo_pairs))\n",
    "util.dump2jsonl(dpo_pairs, \"dpo_pairs.jsonl\")"
   ]
  }
 ],
 "metadata": {
  "kernelspec": {
   "display_name": "peft",
   "language": "python",
   "name": "python3"
  },
  "language_info": {
   "codemirror_mode": {
    "name": "ipython",
    "version": 3
   },
   "file_extension": ".py",
   "mimetype": "text/x-python",
   "name": "python",
   "nbconvert_exporter": "python",
   "pygments_lexer": "ipython3",
   "version": "3.10.12"
  }
 },
 "nbformat": 4,
 "nbformat_minor": 2
}
